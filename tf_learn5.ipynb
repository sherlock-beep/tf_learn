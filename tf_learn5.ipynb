{
  "nbformat": 4,
  "nbformat_minor": 0,
  "metadata": {
    "colab": {
      "name": "tf_learn5.ipynb",
      "provenance": [],
      "authorship_tag": "ABX9TyOccl6Z/D7O/Bq4FOz/XaYN",
      "include_colab_link": true
    },
    "kernelspec": {
      "name": "python3",
      "display_name": "Python 3"
    },
    "language_info": {
      "name": "python"
    }
  },
  "cells": [
    {
      "cell_type": "markdown",
      "metadata": {
        "id": "view-in-github",
        "colab_type": "text"
      },
      "source": [
        "<a href=\"https://colab.research.google.com/github/sherlock-beep/tf_learn/blob/main/tf_learn5.ipynb\" target=\"_parent\"><img src=\"https://colab.research.google.com/assets/colab-badge.svg\" alt=\"Open In Colab\"/></a>"
      ]
    },
    {
      "cell_type": "markdown",
      "source": [
        ""
      ],
      "metadata": {
        "id": "WngP0R20e8uQ"
      }
    },
    {
      "cell_type": "code",
      "source": [
        "!pip install -q -U keras-tuner"
      ],
      "metadata": {
        "id": "cj9BhQuddkRT"
      },
      "execution_count": 5,
      "outputs": []
    },
    {
      "cell_type": "code",
      "source": [
        "import tensorflow as tf\n",
        "from tensorflow import keras\n",
        "import keras_tuner as kt"
      ],
      "metadata": {
        "id": "BrilsDcYdk1A"
      },
      "execution_count": 11,
      "outputs": []
    },
    {
      "cell_type": "code",
      "source": [
        "#加载数据集\n",
        "(img_train, label_train), (img_test, label_test) = keras.datasets.fashion_mnist.load_data()\n",
        "#对图片数据像素进行归一化\n",
        "img_train = img_train.astype('float32') / 255.0\n",
        "img_test = img_test.astype('float32') / 255.0\n",
        "\n"
      ],
      "metadata": {
        "id": "qdKb-iCBdv8R"
      },
      "execution_count": 12,
      "outputs": []
    },
    {
      "cell_type": "code",
      "source": [
        "from threading import active_count\n",
        "#定义模型\n",
        "def model_builder(hp):\n",
        "  model = keras.Sequential()\n",
        "  model.add(keras.layers.Flatten(input_shape=(28,28)))\n",
        "  #设置unit超参数，选择隐藏层的units(between 32-512)\n",
        "  hp_units = hp.Int('units',min_value=32,max_value=512,step=32)\n",
        "  model.add(keras.layers.Dense(units=hp_units,activation='relu'))\n",
        "  model.add(keras.layers.Dense(10))\n",
        "  #设置学习率超参数\n",
        "  hp_learning_rate = hp.Choice('learning_rate',values=[1e-2,1e-3,1e-4])\n",
        "\n",
        "  model.compile(optimizer=keras.optimizers.Adam(learning_rate=hp_learning_rate),\n",
        "                loss=keras.losses.SparseCategoricalCrossentropy(from_logits=True),\n",
        "                metrics=['accuracy'])\n",
        "  return model\n"
      ],
      "metadata": {
        "id": "UbX7WIy4khhc"
      },
      "execution_count": 15,
      "outputs": []
    },
    {
      "cell_type": "code",
      "source": [
        "#实例化调节器以执行超调。\n",
        "#Keras Tuner 提供了四种调节器：\n",
        "#RandomSearch、Hyperband、BayesianOptimization 和 Sklearn。\n",
        "\n",
        "tuner = kt.Hyperband(model_builder,\n",
        "                     objective='val_accuracy',\n",
        "                     max_epochs=10,\n",
        "                     factor=3,\n",
        "                     directory='my_dir',\n",
        "                     project_name='intro_to_kt')"
      ],
      "metadata": {
        "id": "hBetNVQmn8mv"
      },
      "execution_count": 16,
      "outputs": []
    },
    {
      "cell_type": "code",
      "source": [
        "#创建回调以在验证损失达到特定值后提前停止训练。\n",
        "\n",
        "stop_early = tf.keras.callbacks.EarlyStopping(monitor='val_loss', patience=5)\n"
      ],
      "metadata": {
        "id": "nZnpU6fCoFhC"
      },
      "execution_count": 17,
      "outputs": []
    },
    {
      "cell_type": "code",
      "source": [
        "tuner.search(img_train, label_train, epochs=50, validation_split=0.2, callbacks=[stop_early])\n",
        "\n",
        "# Get the optimal hyperparameters\n",
        "best_hps=tuner.get_best_hyperparameters(num_trials=1)[0]\n",
        "\n",
        "print(f\"\"\"\n",
        "The hyperparameter search is complete. The optimal number of units in the first densely-connected\n",
        "layer is {best_hps.get('units')} and the optimal learning rate for the optimizer\n",
        "is {best_hps.get('learning_rate')}.\n",
        "\"\"\")"
      ],
      "metadata": {
        "colab": {
          "base_uri": "https://localhost:8080/"
        },
        "id": "rWVhOeMgoYco",
        "outputId": "de50ffdc-302c-4db8-c866-f7fbebe31f1d"
      },
      "execution_count": 18,
      "outputs": [
        {
          "output_type": "stream",
          "name": "stdout",
          "text": [
            "Trial 30 Complete [00h 01m 07s]\n",
            "val_accuracy: 0.8540833592414856\n",
            "\n",
            "Best val_accuracy So Far: 0.8880000114440918\n",
            "Total elapsed time: 00h 18m 03s\n",
            "INFO:tensorflow:Oracle triggered exit\n",
            "\n",
            "The hyperparameter search is complete. The optimal number of units in the first densely-connected\n",
            "layer is 512 and the optimal learning rate for the optimizer\n",
            "is 0.001.\n",
            "\n"
          ]
        }
      ]
    },
    {
      "cell_type": "code",
      "source": [
        "#使用获取的超参数获取最佳周期数\n",
        "\n",
        "model = tuner.hypermodel.build(best_hps)\n",
        "history = model.fit(img_train, label_train, epochs=50, validation_split=0.2)\n",
        "\n",
        "val_acc_per_epoch = history.history['val_accuracy']\n",
        "best_epoch = val_acc_per_epoch.index(max(val_acc_per_epoch)) + 1\n",
        "print('Best epoch: %d' % (best_epoch,))"
      ],
      "metadata": {
        "colab": {
          "base_uri": "https://localhost:8080/"
        },
        "id": "Og5r-3ctoafI",
        "outputId": "570e5eb0-d2e8-4fdc-dd79-c7b3533c2859"
      },
      "execution_count": 19,
      "outputs": [
        {
          "output_type": "stream",
          "name": "stdout",
          "text": [
            "Epoch 1/50\n",
            "1500/1500 [==============================] - 10s 7ms/step - loss: 0.4927 - accuracy: 0.8259 - val_loss: 0.4025 - val_accuracy: 0.8528\n",
            "Epoch 2/50\n",
            "1500/1500 [==============================] - 10s 6ms/step - loss: 0.3705 - accuracy: 0.8650 - val_loss: 0.3508 - val_accuracy: 0.8701\n",
            "Epoch 3/50\n",
            "1500/1500 [==============================] - 12s 8ms/step - loss: 0.3306 - accuracy: 0.8780 - val_loss: 0.3335 - val_accuracy: 0.8804\n",
            "Epoch 4/50\n",
            "1500/1500 [==============================] - 10s 7ms/step - loss: 0.3052 - accuracy: 0.8875 - val_loss: 0.3344 - val_accuracy: 0.8802\n",
            "Epoch 5/50\n",
            "1500/1500 [==============================] - 10s 7ms/step - loss: 0.2875 - accuracy: 0.8924 - val_loss: 0.3342 - val_accuracy: 0.8812\n",
            "Epoch 6/50\n",
            "1500/1500 [==============================] - 9s 6ms/step - loss: 0.2700 - accuracy: 0.8996 - val_loss: 0.3232 - val_accuracy: 0.8856\n",
            "Epoch 7/50\n",
            "1500/1500 [==============================] - 9s 6ms/step - loss: 0.2574 - accuracy: 0.9045 - val_loss: 0.3863 - val_accuracy: 0.8536\n",
            "Epoch 8/50\n",
            "1500/1500 [==============================] - 9s 6ms/step - loss: 0.2445 - accuracy: 0.9081 - val_loss: 0.3256 - val_accuracy: 0.8864\n",
            "Epoch 9/50\n",
            "1500/1500 [==============================] - 8s 6ms/step - loss: 0.2361 - accuracy: 0.9122 - val_loss: 0.3218 - val_accuracy: 0.8890\n",
            "Epoch 10/50\n",
            "1500/1500 [==============================] - 8s 6ms/step - loss: 0.2264 - accuracy: 0.9142 - val_loss: 0.3092 - val_accuracy: 0.8935\n",
            "Epoch 11/50\n",
            "1500/1500 [==============================] - 9s 6ms/step - loss: 0.2159 - accuracy: 0.9188 - val_loss: 0.3188 - val_accuracy: 0.8942\n",
            "Epoch 12/50\n",
            "1500/1500 [==============================] - 10s 6ms/step - loss: 0.2075 - accuracy: 0.9202 - val_loss: 0.3137 - val_accuracy: 0.8966\n",
            "Epoch 13/50\n",
            "1500/1500 [==============================] - 10s 7ms/step - loss: 0.1992 - accuracy: 0.9241 - val_loss: 0.3393 - val_accuracy: 0.8880\n",
            "Epoch 14/50\n",
            "1500/1500 [==============================] - 10s 7ms/step - loss: 0.1926 - accuracy: 0.9271 - val_loss: 0.3257 - val_accuracy: 0.8888\n",
            "Epoch 15/50\n",
            "1500/1500 [==============================] - 10s 7ms/step - loss: 0.1858 - accuracy: 0.9296 - val_loss: 0.3326 - val_accuracy: 0.8915\n",
            "Epoch 16/50\n",
            "1500/1500 [==============================] - 10s 6ms/step - loss: 0.1793 - accuracy: 0.9330 - val_loss: 0.3314 - val_accuracy: 0.8920\n",
            "Epoch 17/50\n",
            "1500/1500 [==============================] - 10s 7ms/step - loss: 0.1728 - accuracy: 0.9346 - val_loss: 0.3298 - val_accuracy: 0.8954\n",
            "Epoch 18/50\n",
            "1500/1500 [==============================] - 10s 7ms/step - loss: 0.1652 - accuracy: 0.9387 - val_loss: 0.3452 - val_accuracy: 0.8938\n",
            "Epoch 19/50\n",
            "1500/1500 [==============================] - 10s 6ms/step - loss: 0.1621 - accuracy: 0.9400 - val_loss: 0.3608 - val_accuracy: 0.8896\n",
            "Epoch 20/50\n",
            "1500/1500 [==============================] - 10s 6ms/step - loss: 0.1581 - accuracy: 0.9411 - val_loss: 0.3502 - val_accuracy: 0.8928\n",
            "Epoch 21/50\n",
            "1500/1500 [==============================] - 10s 6ms/step - loss: 0.1498 - accuracy: 0.9436 - val_loss: 0.4088 - val_accuracy: 0.8776\n",
            "Epoch 22/50\n",
            "1500/1500 [==============================] - 10s 7ms/step - loss: 0.1437 - accuracy: 0.9459 - val_loss: 0.3738 - val_accuracy: 0.8950\n",
            "Epoch 23/50\n",
            "1500/1500 [==============================] - 9s 6ms/step - loss: 0.1423 - accuracy: 0.9459 - val_loss: 0.3678 - val_accuracy: 0.8936\n",
            "Epoch 24/50\n",
            "1500/1500 [==============================] - 10s 6ms/step - loss: 0.1393 - accuracy: 0.9478 - val_loss: 0.3842 - val_accuracy: 0.8926\n",
            "Epoch 25/50\n",
            "1500/1500 [==============================] - 10s 7ms/step - loss: 0.1347 - accuracy: 0.9495 - val_loss: 0.4021 - val_accuracy: 0.8900\n",
            "Epoch 26/50\n",
            "1500/1500 [==============================] - 10s 6ms/step - loss: 0.1293 - accuracy: 0.9511 - val_loss: 0.4070 - val_accuracy: 0.8838\n",
            "Epoch 27/50\n",
            "1500/1500 [==============================] - 10s 6ms/step - loss: 0.1243 - accuracy: 0.9521 - val_loss: 0.3840 - val_accuracy: 0.8941\n",
            "Epoch 28/50\n",
            "1500/1500 [==============================] - 10s 6ms/step - loss: 0.1245 - accuracy: 0.9541 - val_loss: 0.3995 - val_accuracy: 0.8945\n",
            "Epoch 29/50\n",
            "1500/1500 [==============================] - 9s 6ms/step - loss: 0.1208 - accuracy: 0.9551 - val_loss: 0.4030 - val_accuracy: 0.8916\n",
            "Epoch 30/50\n",
            "1500/1500 [==============================] - 10s 6ms/step - loss: 0.1141 - accuracy: 0.9573 - val_loss: 0.4290 - val_accuracy: 0.8861\n",
            "Epoch 31/50\n",
            "1500/1500 [==============================] - 9s 6ms/step - loss: 0.1128 - accuracy: 0.9571 - val_loss: 0.4232 - val_accuracy: 0.8922\n",
            "Epoch 32/50\n",
            "1500/1500 [==============================] - 10s 6ms/step - loss: 0.1103 - accuracy: 0.9592 - val_loss: 0.4073 - val_accuracy: 0.8970\n",
            "Epoch 33/50\n",
            "1500/1500 [==============================] - 9s 6ms/step - loss: 0.1078 - accuracy: 0.9600 - val_loss: 0.4168 - val_accuracy: 0.8934\n",
            "Epoch 34/50\n",
            "1500/1500 [==============================] - 9s 6ms/step - loss: 0.1047 - accuracy: 0.9613 - val_loss: 0.4435 - val_accuracy: 0.8899\n",
            "Epoch 35/50\n",
            "1500/1500 [==============================] - 9s 6ms/step - loss: 0.1007 - accuracy: 0.9628 - val_loss: 0.4272 - val_accuracy: 0.8938\n",
            "Epoch 36/50\n",
            "1500/1500 [==============================] - 9s 6ms/step - loss: 0.1008 - accuracy: 0.9624 - val_loss: 0.4387 - val_accuracy: 0.8928\n",
            "Epoch 37/50\n",
            "1500/1500 [==============================] - 9s 6ms/step - loss: 0.1009 - accuracy: 0.9621 - val_loss: 0.4504 - val_accuracy: 0.8902\n",
            "Epoch 38/50\n",
            "1500/1500 [==============================] - 9s 6ms/step - loss: 0.0924 - accuracy: 0.9660 - val_loss: 0.4858 - val_accuracy: 0.8962\n",
            "Epoch 39/50\n",
            "1500/1500 [==============================] - 10s 6ms/step - loss: 0.0931 - accuracy: 0.9643 - val_loss: 0.4806 - val_accuracy: 0.8928\n",
            "Epoch 40/50\n",
            "1500/1500 [==============================] - 10s 6ms/step - loss: 0.0889 - accuracy: 0.9676 - val_loss: 0.4952 - val_accuracy: 0.8921\n",
            "Epoch 41/50\n",
            "1500/1500 [==============================] - 9s 6ms/step - loss: 0.0895 - accuracy: 0.9664 - val_loss: 0.4854 - val_accuracy: 0.8952\n",
            "Epoch 42/50\n",
            "1500/1500 [==============================] - 9s 6ms/step - loss: 0.0879 - accuracy: 0.9674 - val_loss: 0.4824 - val_accuracy: 0.8885\n",
            "Epoch 43/50\n",
            "1500/1500 [==============================] - 10s 6ms/step - loss: 0.0862 - accuracy: 0.9679 - val_loss: 0.5076 - val_accuracy: 0.8982\n",
            "Epoch 44/50\n",
            "1500/1500 [==============================] - 10s 6ms/step - loss: 0.0815 - accuracy: 0.9686 - val_loss: 0.5155 - val_accuracy: 0.8947\n",
            "Epoch 45/50\n",
            "1500/1500 [==============================] - 10s 6ms/step - loss: 0.0844 - accuracy: 0.9684 - val_loss: 0.5153 - val_accuracy: 0.8957\n",
            "Epoch 46/50\n",
            "1500/1500 [==============================] - 10s 7ms/step - loss: 0.0780 - accuracy: 0.9708 - val_loss: 0.5056 - val_accuracy: 0.8978\n",
            "Epoch 47/50\n",
            "1500/1500 [==============================] - 10s 7ms/step - loss: 0.0814 - accuracy: 0.9701 - val_loss: 0.5535 - val_accuracy: 0.8909\n",
            "Epoch 48/50\n",
            "1500/1500 [==============================] - 10s 7ms/step - loss: 0.0764 - accuracy: 0.9707 - val_loss: 0.5558 - val_accuracy: 0.8917\n",
            "Epoch 49/50\n",
            "1500/1500 [==============================] - 10s 7ms/step - loss: 0.0750 - accuracy: 0.9725 - val_loss: 0.5327 - val_accuracy: 0.8938\n",
            "Epoch 50/50\n",
            "1500/1500 [==============================] - 10s 7ms/step - loss: 0.0745 - accuracy: 0.9723 - val_loss: 0.5327 - val_accuracy: 0.8931\n",
            "Best epoch: 43\n"
          ]
        }
      ]
    },
    {
      "cell_type": "code",
      "source": [
        "# 重新实例化超模型并使用上面的最佳周期数对其进行训练。\n",
        "hypermodel = tuner.hypermodel.build(best_hps)\n",
        "\n",
        "hypermodel.fit(img_train, label_train, epochs=best_epoch, validation_split=0.2)"
      ],
      "metadata": {
        "colab": {
          "base_uri": "https://localhost:8080/"
        },
        "id": "WLtcgZvLpzbG",
        "outputId": "ad9ba1a7-919f-4b59-d37d-97d4f5bdcb3c"
      },
      "execution_count": 21,
      "outputs": [
        {
          "output_type": "stream",
          "name": "stdout",
          "text": [
            "Epoch 1/43\n",
            "1500/1500 [==============================] - 10s 6ms/step - loss: 0.4906 - accuracy: 0.8255 - val_loss: 0.3983 - val_accuracy: 0.8573\n",
            "Epoch 2/43\n",
            "1500/1500 [==============================] - 9s 6ms/step - loss: 0.3684 - accuracy: 0.8668 - val_loss: 0.3584 - val_accuracy: 0.8700\n",
            "Epoch 3/43\n",
            "1500/1500 [==============================] - 9s 6ms/step - loss: 0.3311 - accuracy: 0.8775 - val_loss: 0.3641 - val_accuracy: 0.8647\n",
            "Epoch 4/43\n",
            "1500/1500 [==============================] - 9s 6ms/step - loss: 0.3052 - accuracy: 0.8868 - val_loss: 0.3294 - val_accuracy: 0.8840\n",
            "Epoch 5/43\n",
            "1500/1500 [==============================] - 9s 6ms/step - loss: 0.2851 - accuracy: 0.8935 - val_loss: 0.3234 - val_accuracy: 0.8858\n",
            "Epoch 6/43\n",
            "1500/1500 [==============================] - 9s 6ms/step - loss: 0.2709 - accuracy: 0.8986 - val_loss: 0.3435 - val_accuracy: 0.8784\n",
            "Epoch 7/43\n",
            "1500/1500 [==============================] - 9s 6ms/step - loss: 0.2569 - accuracy: 0.9027 - val_loss: 0.3403 - val_accuracy: 0.8797\n",
            "Epoch 8/43\n",
            "1500/1500 [==============================] - 9s 6ms/step - loss: 0.2441 - accuracy: 0.9088 - val_loss: 0.3148 - val_accuracy: 0.8893\n",
            "Epoch 9/43\n",
            "1500/1500 [==============================] - 9s 6ms/step - loss: 0.2319 - accuracy: 0.9124 - val_loss: 0.3239 - val_accuracy: 0.8883\n",
            "Epoch 10/43\n",
            "1500/1500 [==============================] - 9s 6ms/step - loss: 0.2256 - accuracy: 0.9168 - val_loss: 0.3106 - val_accuracy: 0.8895\n",
            "Epoch 11/43\n",
            "1500/1500 [==============================] - 9s 6ms/step - loss: 0.2142 - accuracy: 0.9188 - val_loss: 0.3156 - val_accuracy: 0.8932\n",
            "Epoch 12/43\n",
            "1500/1500 [==============================] - 9s 6ms/step - loss: 0.2053 - accuracy: 0.9229 - val_loss: 0.3304 - val_accuracy: 0.8909\n",
            "Epoch 13/43\n",
            "1500/1500 [==============================] - 9s 6ms/step - loss: 0.1987 - accuracy: 0.9255 - val_loss: 0.3124 - val_accuracy: 0.8945\n",
            "Epoch 14/43\n",
            "1500/1500 [==============================] - 9s 6ms/step - loss: 0.1927 - accuracy: 0.9274 - val_loss: 0.3211 - val_accuracy: 0.8907\n",
            "Epoch 15/43\n",
            "1500/1500 [==============================] - 9s 6ms/step - loss: 0.1819 - accuracy: 0.9313 - val_loss: 0.3387 - val_accuracy: 0.8903\n",
            "Epoch 16/43\n",
            "1500/1500 [==============================] - 9s 6ms/step - loss: 0.1771 - accuracy: 0.9342 - val_loss: 0.3298 - val_accuracy: 0.8951\n",
            "Epoch 17/43\n",
            "1500/1500 [==============================] - 9s 6ms/step - loss: 0.1725 - accuracy: 0.9356 - val_loss: 0.3228 - val_accuracy: 0.8952\n",
            "Epoch 18/43\n",
            "1500/1500 [==============================] - 9s 6ms/step - loss: 0.1637 - accuracy: 0.9394 - val_loss: 0.3267 - val_accuracy: 0.8943\n",
            "Epoch 19/43\n",
            "1500/1500 [==============================] - 9s 6ms/step - loss: 0.1635 - accuracy: 0.9382 - val_loss: 0.3337 - val_accuracy: 0.8971\n",
            "Epoch 20/43\n",
            "1500/1500 [==============================] - 9s 6ms/step - loss: 0.1564 - accuracy: 0.9407 - val_loss: 0.3330 - val_accuracy: 0.8972\n",
            "Epoch 21/43\n",
            "1500/1500 [==============================] - 9s 6ms/step - loss: 0.1506 - accuracy: 0.9438 - val_loss: 0.3622 - val_accuracy: 0.8942\n",
            "Epoch 22/43\n",
            "1500/1500 [==============================] - 9s 6ms/step - loss: 0.1483 - accuracy: 0.9441 - val_loss: 0.3495 - val_accuracy: 0.8959\n",
            "Epoch 23/43\n",
            "1500/1500 [==============================] - 9s 6ms/step - loss: 0.1437 - accuracy: 0.9455 - val_loss: 0.3841 - val_accuracy: 0.8882\n",
            "Epoch 24/43\n",
            "1500/1500 [==============================] - 9s 6ms/step - loss: 0.1374 - accuracy: 0.9478 - val_loss: 0.3903 - val_accuracy: 0.8850\n",
            "Epoch 25/43\n",
            "1500/1500 [==============================] - 9s 6ms/step - loss: 0.1342 - accuracy: 0.9496 - val_loss: 0.3769 - val_accuracy: 0.8954\n",
            "Epoch 26/43\n",
            "1500/1500 [==============================] - 10s 7ms/step - loss: 0.1299 - accuracy: 0.9509 - val_loss: 0.3709 - val_accuracy: 0.8943\n",
            "Epoch 27/43\n",
            "1500/1500 [==============================] - 9s 6ms/step - loss: 0.1256 - accuracy: 0.9531 - val_loss: 0.3877 - val_accuracy: 0.8931\n",
            "Epoch 28/43\n",
            "1500/1500 [==============================] - 9s 6ms/step - loss: 0.1226 - accuracy: 0.9542 - val_loss: 0.3884 - val_accuracy: 0.8926\n",
            "Epoch 29/43\n",
            "1500/1500 [==============================] - 9s 6ms/step - loss: 0.1195 - accuracy: 0.9557 - val_loss: 0.3750 - val_accuracy: 0.8924\n",
            "Epoch 30/43\n",
            "1500/1500 [==============================] - 9s 6ms/step - loss: 0.1179 - accuracy: 0.9549 - val_loss: 0.4239 - val_accuracy: 0.8918\n",
            "Epoch 31/43\n",
            "1500/1500 [==============================] - 9s 6ms/step - loss: 0.1134 - accuracy: 0.9563 - val_loss: 0.4129 - val_accuracy: 0.8904\n",
            "Epoch 32/43\n",
            "1500/1500 [==============================] - 10s 6ms/step - loss: 0.1116 - accuracy: 0.9579 - val_loss: 0.4048 - val_accuracy: 0.8970\n",
            "Epoch 33/43\n",
            "1500/1500 [==============================] - 9s 6ms/step - loss: 0.1060 - accuracy: 0.9604 - val_loss: 0.4387 - val_accuracy: 0.8900\n",
            "Epoch 34/43\n",
            "1500/1500 [==============================] - 9s 6ms/step - loss: 0.1062 - accuracy: 0.9596 - val_loss: 0.4466 - val_accuracy: 0.8932\n",
            "Epoch 35/43\n",
            "1500/1500 [==============================] - 9s 6ms/step - loss: 0.1030 - accuracy: 0.9616 - val_loss: 0.4110 - val_accuracy: 0.8932\n",
            "Epoch 36/43\n",
            "1500/1500 [==============================] - 9s 6ms/step - loss: 0.1017 - accuracy: 0.9616 - val_loss: 0.4541 - val_accuracy: 0.8921\n",
            "Epoch 37/43\n",
            "1500/1500 [==============================] - 9s 6ms/step - loss: 0.0983 - accuracy: 0.9624 - val_loss: 0.4450 - val_accuracy: 0.8910\n",
            "Epoch 38/43\n",
            "1500/1500 [==============================] - 9s 6ms/step - loss: 0.0932 - accuracy: 0.9649 - val_loss: 0.4505 - val_accuracy: 0.8942\n",
            "Epoch 39/43\n",
            "1500/1500 [==============================] - 10s 6ms/step - loss: 0.0942 - accuracy: 0.9643 - val_loss: 0.4485 - val_accuracy: 0.8965\n",
            "Epoch 40/43\n",
            "1500/1500 [==============================] - 9s 6ms/step - loss: 0.0913 - accuracy: 0.9659 - val_loss: 0.5036 - val_accuracy: 0.8898\n",
            "Epoch 41/43\n",
            "1500/1500 [==============================] - 9s 6ms/step - loss: 0.0883 - accuracy: 0.9671 - val_loss: 0.4682 - val_accuracy: 0.8932\n",
            "Epoch 42/43\n",
            "1500/1500 [==============================] - 9s 6ms/step - loss: 0.0896 - accuracy: 0.9667 - val_loss: 0.4691 - val_accuracy: 0.8923\n",
            "Epoch 43/43\n",
            "1500/1500 [==============================] - 9s 6ms/step - loss: 0.0877 - accuracy: 0.9674 - val_loss: 0.4613 - val_accuracy: 0.8994\n"
          ]
        },
        {
          "output_type": "execute_result",
          "data": {
            "text/plain": [
              "<keras.callbacks.History at 0x7f945f188090>"
            ]
          },
          "metadata": {},
          "execution_count": 21
        }
      ]
    },
    {
      "cell_type": "code",
      "source": [
        "#在test-dataset上评估超模型\n",
        "eval_result = hypermodel.evaluate(img_test, label_test)\n",
        "print(\"[test loss, test accuracy]:\", eval_result)"
      ],
      "metadata": {
        "colab": {
          "base_uri": "https://localhost:8080/"
        },
        "id": "7pnOa32npzlw",
        "outputId": "bb07be1e-f25b-406c-efc6-bbdf1dd0cfd7"
      },
      "execution_count": 22,
      "outputs": [
        {
          "output_type": "stream",
          "name": "stdout",
          "text": [
            "313/313 [==============================] - 1s 4ms/step - loss: 0.5189 - accuracy: 0.8923\n",
            "[test loss, test accuracy]: [0.5189301371574402, 0.892300009727478]\n"
          ]
        }
      ]
    },
    {
      "cell_type": "code",
      "source": [
        "print('a')"
      ],
      "metadata": {
        "colab": {
          "base_uri": "https://localhost:8080/"
        },
        "id": "K7NVUEimwWAz",
        "outputId": "1b3e0f92-aa3a-4a56-ebbe-27bdfea45be5"
      },
      "execution_count": 20,
      "outputs": [
        {
          "output_type": "stream",
          "name": "stdout",
          "text": [
            "a\n"
          ]
        }
      ]
    },
    {
      "cell_type": "code",
      "source": [
        ""
      ],
      "metadata": {
        "id": "K7afBGnVwYXy"
      },
      "execution_count": null,
      "outputs": []
    }
  ]
}